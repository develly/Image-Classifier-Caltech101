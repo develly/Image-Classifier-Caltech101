{
  "nbformat": 4,
  "nbformat_minor": 0,
  "metadata": {
    "colab": {
      "name": "Image_classifier.ipynb",
      "provenance": [],
      "collapsed_sections": [],
      "authorship_tag": "ABX9TyPbUjwKilXGjElT8ZpJA9ZR",
      "include_colab_link": true
    },
    "kernelspec": {
      "name": "python3",
      "display_name": "Python 3"
    },
    "language_info": {
      "name": "python"
    },
    "accelerator": "GPU"
  },
  "cells": [
    {
      "cell_type": "markdown",
      "metadata": {
        "id": "view-in-github",
        "colab_type": "text"
      },
      "source": [
        "<a href=\"https://colab.research.google.com/github/develly/Image-Classifier-Caltech101/blob/main/Image_classifier.ipynb\" target=\"_parent\"><img src=\"https://colab.research.google.com/assets/colab-badge.svg\" alt=\"Open In Colab\"/></a>"
      ]
    },
    {
      "cell_type": "code",
      "metadata": {
        "colab": {
          "base_uri": "https://localhost:8080/"
        },
        "id": "ijt88futPn39",
        "outputId": "df12ca71-7867-4ba1-c2d3-5def087059a8"
      },
      "source": [
        "!python --version"
      ],
      "execution_count": null,
      "outputs": [
        {
          "output_type": "stream",
          "text": [
            "Python 3.7.10\n"
          ],
          "name": "stdout"
        }
      ]
    },
    {
      "cell_type": "code",
      "metadata": {
        "colab": {
          "base_uri": "https://localhost:8080/",
          "height": 35
        },
        "id": "rTmPy9S1P-Cs",
        "outputId": "8d3f7c00-a035-4c20-f63f-6b69b869bb04"
      },
      "source": [
        "import keras\n",
        "keras.__version__"
      ],
      "execution_count": null,
      "outputs": [
        {
          "output_type": "execute_result",
          "data": {
            "application/vnd.google.colaboratory.intrinsic+json": {
              "type": "string"
            },
            "text/plain": [
              "'2.4.3'"
            ]
          },
          "metadata": {
            "tags": []
          },
          "execution_count": 40
        }
      ]
    },
    {
      "cell_type": "code",
      "metadata": {
        "colab": {
          "base_uri": "https://localhost:8080/",
          "height": 35
        },
        "id": "KkAMca_sdntT",
        "outputId": "c5e57cff-6735-4686-d347-b88be1223a71"
      },
      "source": [
        "import tensorflow as tf\n",
        "tf.__version__"
      ],
      "execution_count": null,
      "outputs": [
        {
          "output_type": "execute_result",
          "data": {
            "application/vnd.google.colaboratory.intrinsic+json": {
              "type": "string"
            },
            "text/plain": [
              "'2.2.0'"
            ]
          },
          "metadata": {
            "tags": []
          },
          "execution_count": 9
        }
      ]
    },
    {
      "cell_type": "code",
      "metadata": {
        "colab": {
          "base_uri": "https://localhost:8080/"
        },
        "id": "hsVwjsyzeKme",
        "outputId": "d782748d-2f7e-4f7a-8836-983dfccbfe78"
      },
      "source": [
        "!pip uninstall tensorflow"
      ],
      "execution_count": null,
      "outputs": [
        {
          "output_type": "stream",
          "text": [
            "\u001b[33mWARNING: Skipping tensorflow as it is not installed.\u001b[0m\n"
          ],
          "name": "stdout"
        }
      ]
    },
    {
      "cell_type": "code",
      "metadata": {
        "colab": {
          "base_uri": "https://localhost:8080/",
          "height": 1000
        },
        "id": "jtaZ7QTqecYw",
        "outputId": "de12c67f-a0ce-43a2-c996-827acb5d6901"
      },
      "source": [
        "!pip install tensorflow==2.2"
      ],
      "execution_count": null,
      "outputs": [
        {
          "output_type": "stream",
          "text": [
            "Collecting tensorflow==2.2\n",
            "\u001b[?25l  Downloading https://files.pythonhosted.org/packages/4c/1a/0d79814736cfecc825ab8094b39648cc9c46af7af1bae839928acb73b4dd/tensorflow-2.2.0-cp37-cp37m-manylinux2010_x86_64.whl (516.2MB)\n",
            "\u001b[K     |████████████████████████████████| 516.2MB 33kB/s \n",
            "\u001b[?25hCollecting tensorboard<2.3.0,>=2.2.0\n",
            "\u001b[?25l  Downloading https://files.pythonhosted.org/packages/1d/74/0a6fcb206dcc72a6da9a62dd81784bfdbff5fedb099982861dc2219014fb/tensorboard-2.2.2-py3-none-any.whl (3.0MB)\n",
            "\u001b[K     |████████████████████████████████| 3.0MB 52kB/s \n",
            "\u001b[?25hRequirement already satisfied: keras-preprocessing>=1.1.0 in /usr/local/lib/python3.7/dist-packages (from tensorflow==2.2) (1.1.2)\n",
            "Requirement already satisfied: gast==0.3.3 in /usr/local/lib/python3.7/dist-packages (from tensorflow==2.2) (0.3.3)\n",
            "Requirement already satisfied: google-pasta>=0.1.8 in /usr/local/lib/python3.7/dist-packages (from tensorflow==2.2) (0.2.0)\n",
            "Requirement already satisfied: scipy==1.4.1; python_version >= \"3\" in /usr/local/lib/python3.7/dist-packages (from tensorflow==2.2) (1.4.1)\n",
            "Requirement already satisfied: grpcio>=1.8.6 in /usr/local/lib/python3.7/dist-packages (from tensorflow==2.2) (1.32.0)\n",
            "Requirement already satisfied: absl-py>=0.7.0 in /usr/local/lib/python3.7/dist-packages (from tensorflow==2.2) (0.12.0)\n",
            "Collecting tensorflow-estimator<2.3.0,>=2.2.0\n",
            "\u001b[?25l  Downloading https://files.pythonhosted.org/packages/a4/f5/926ae53d6a226ec0fda5208e0e581cffed895ccc89e36ba76a8e60895b78/tensorflow_estimator-2.2.0-py2.py3-none-any.whl (454kB)\n",
            "\u001b[K     |████████████████████████████████| 460kB 43.8MB/s \n",
            "\u001b[?25hRequirement already satisfied: numpy<2.0,>=1.16.0 in /usr/local/lib/python3.7/dist-packages (from tensorflow==2.2) (1.19.5)\n",
            "Requirement already satisfied: six>=1.12.0 in /usr/local/lib/python3.7/dist-packages (from tensorflow==2.2) (1.15.0)\n",
            "Requirement already satisfied: h5py<2.11.0,>=2.10.0 in /usr/local/lib/python3.7/dist-packages (from tensorflow==2.2) (2.10.0)\n",
            "Requirement already satisfied: astunparse==1.6.3 in /usr/local/lib/python3.7/dist-packages (from tensorflow==2.2) (1.6.3)\n",
            "Requirement already satisfied: opt-einsum>=2.3.2 in /usr/local/lib/python3.7/dist-packages (from tensorflow==2.2) (3.3.0)\n",
            "Requirement already satisfied: termcolor>=1.1.0 in /usr/local/lib/python3.7/dist-packages (from tensorflow==2.2) (1.1.0)\n",
            "Requirement already satisfied: protobuf>=3.8.0 in /usr/local/lib/python3.7/dist-packages (from tensorflow==2.2) (3.12.4)\n",
            "Requirement already satisfied: wheel>=0.26; python_version >= \"3\" in /usr/local/lib/python3.7/dist-packages (from tensorflow==2.2) (0.36.2)\n",
            "Requirement already satisfied: wrapt>=1.11.1 in /usr/local/lib/python3.7/dist-packages (from tensorflow==2.2) (1.12.1)\n",
            "Requirement already satisfied: google-auth<2,>=1.6.3 in /usr/local/lib/python3.7/dist-packages (from tensorboard<2.3.0,>=2.2.0->tensorflow==2.2) (1.28.1)\n",
            "Requirement already satisfied: setuptools>=41.0.0 in /usr/local/lib/python3.7/dist-packages (from tensorboard<2.3.0,>=2.2.0->tensorflow==2.2) (56.1.0)\n",
            "Requirement already satisfied: markdown>=2.6.8 in /usr/local/lib/python3.7/dist-packages (from tensorboard<2.3.0,>=2.2.0->tensorflow==2.2) (3.3.4)\n",
            "Requirement already satisfied: requests<3,>=2.21.0 in /usr/local/lib/python3.7/dist-packages (from tensorboard<2.3.0,>=2.2.0->tensorflow==2.2) (2.23.0)\n",
            "Requirement already satisfied: tensorboard-plugin-wit>=1.6.0 in /usr/local/lib/python3.7/dist-packages (from tensorboard<2.3.0,>=2.2.0->tensorflow==2.2) (1.8.0)\n",
            "Requirement already satisfied: werkzeug>=0.11.15 in /usr/local/lib/python3.7/dist-packages (from tensorboard<2.3.0,>=2.2.0->tensorflow==2.2) (1.0.1)\n",
            "Requirement already satisfied: google-auth-oauthlib<0.5,>=0.4.1 in /usr/local/lib/python3.7/dist-packages (from tensorboard<2.3.0,>=2.2.0->tensorflow==2.2) (0.4.4)\n",
            "Requirement already satisfied: pyasn1-modules>=0.2.1 in /usr/local/lib/python3.7/dist-packages (from google-auth<2,>=1.6.3->tensorboard<2.3.0,>=2.2.0->tensorflow==2.2) (0.2.8)\n",
            "Requirement already satisfied: cachetools<5.0,>=2.0.0 in /usr/local/lib/python3.7/dist-packages (from google-auth<2,>=1.6.3->tensorboard<2.3.0,>=2.2.0->tensorflow==2.2) (4.2.1)\n",
            "Requirement already satisfied: rsa<5,>=3.1.4; python_version >= \"3.6\" in /usr/local/lib/python3.7/dist-packages (from google-auth<2,>=1.6.3->tensorboard<2.3.0,>=2.2.0->tensorflow==2.2) (4.7.2)\n",
            "Requirement already satisfied: importlib-metadata; python_version < \"3.8\" in /usr/local/lib/python3.7/dist-packages (from markdown>=2.6.8->tensorboard<2.3.0,>=2.2.0->tensorflow==2.2) (3.10.1)\n",
            "Requirement already satisfied: certifi>=2017.4.17 in /usr/local/lib/python3.7/dist-packages (from requests<3,>=2.21.0->tensorboard<2.3.0,>=2.2.0->tensorflow==2.2) (2020.12.5)\n",
            "Requirement already satisfied: urllib3!=1.25.0,!=1.25.1,<1.26,>=1.21.1 in /usr/local/lib/python3.7/dist-packages (from requests<3,>=2.21.0->tensorboard<2.3.0,>=2.2.0->tensorflow==2.2) (1.24.3)\n",
            "Requirement already satisfied: idna<3,>=2.5 in /usr/local/lib/python3.7/dist-packages (from requests<3,>=2.21.0->tensorboard<2.3.0,>=2.2.0->tensorflow==2.2) (2.10)\n",
            "Requirement already satisfied: chardet<4,>=3.0.2 in /usr/local/lib/python3.7/dist-packages (from requests<3,>=2.21.0->tensorboard<2.3.0,>=2.2.0->tensorflow==2.2) (3.0.4)\n",
            "Requirement already satisfied: requests-oauthlib>=0.7.0 in /usr/local/lib/python3.7/dist-packages (from google-auth-oauthlib<0.5,>=0.4.1->tensorboard<2.3.0,>=2.2.0->tensorflow==2.2) (1.3.0)\n",
            "Requirement already satisfied: pyasn1<0.5.0,>=0.4.6 in /usr/local/lib/python3.7/dist-packages (from pyasn1-modules>=0.2.1->google-auth<2,>=1.6.3->tensorboard<2.3.0,>=2.2.0->tensorflow==2.2) (0.4.8)\n",
            "Requirement already satisfied: typing-extensions>=3.6.4; python_version < \"3.8\" in /usr/local/lib/python3.7/dist-packages (from importlib-metadata; python_version < \"3.8\"->markdown>=2.6.8->tensorboard<2.3.0,>=2.2.0->tensorflow==2.2) (3.7.4.3)\n",
            "Requirement already satisfied: zipp>=0.5 in /usr/local/lib/python3.7/dist-packages (from importlib-metadata; python_version < \"3.8\"->markdown>=2.6.8->tensorboard<2.3.0,>=2.2.0->tensorflow==2.2) (3.4.1)\n",
            "Requirement already satisfied: oauthlib>=3.0.0 in /usr/local/lib/python3.7/dist-packages (from requests-oauthlib>=0.7.0->google-auth-oauthlib<0.5,>=0.4.1->tensorboard<2.3.0,>=2.2.0->tensorflow==2.2) (3.1.0)\n",
            "Installing collected packages: tensorboard, tensorflow-estimator, tensorflow\n",
            "  Found existing installation: tensorboard 2.4.1\n",
            "    Uninstalling tensorboard-2.4.1:\n",
            "      Successfully uninstalled tensorboard-2.4.1\n",
            "  Found existing installation: tensorflow-estimator 2.4.0\n",
            "    Uninstalling tensorflow-estimator-2.4.0:\n",
            "      Successfully uninstalled tensorflow-estimator-2.4.0\n",
            "Successfully installed tensorboard-2.2.2 tensorflow-2.2.0 tensorflow-estimator-2.2.0\n"
          ],
          "name": "stdout"
        },
        {
          "output_type": "display_data",
          "data": {
            "application/vnd.colab-display-data+json": {
              "pip_warning": {
                "packages": [
                  "tensorboard",
                  "tensorflow"
                ]
              }
            }
          },
          "metadata": {
            "tags": []
          }
        }
      ]
    },
    {
      "cell_type": "code",
      "metadata": {
        "id": "G6IspiuvQCow",
        "colab": {
          "base_uri": "https://localhost:8080/"
        },
        "outputId": "402b3bd4-d156-4288-9e06-c34508265d71"
      },
      "source": [
        "!nvidia-smi"
      ],
      "execution_count": null,
      "outputs": [
        {
          "output_type": "stream",
          "text": [
            "Tue May 11 04:51:47 2021       \n",
            "+-----------------------------------------------------------------------------+\n",
            "| NVIDIA-SMI 465.19.01    Driver Version: 460.32.03    CUDA Version: 11.2     |\n",
            "|-------------------------------+----------------------+----------------------+\n",
            "| GPU  Name        Persistence-M| Bus-Id        Disp.A | Volatile Uncorr. ECC |\n",
            "| Fan  Temp  Perf  Pwr:Usage/Cap|         Memory-Usage | GPU-Util  Compute M. |\n",
            "|                               |                      |               MIG M. |\n",
            "|===============================+======================+======================|\n",
            "|   0  Tesla T4            Off  | 00000000:00:04.0 Off |                    0 |\n",
            "| N/A   78C    P0    34W /  70W |   1248MiB / 15109MiB |      0%      Default |\n",
            "|                               |                      |                  N/A |\n",
            "+-------------------------------+----------------------+----------------------+\n",
            "                                                                               \n",
            "+-----------------------------------------------------------------------------+\n",
            "| Processes:                                                                  |\n",
            "|  GPU   GI   CI        PID   Type   Process name                  GPU Memory |\n",
            "|        ID   ID                                                   Usage      |\n",
            "|=============================================================================|\n",
            "+-----------------------------------------------------------------------------+\n"
          ],
          "name": "stdout"
        }
      ]
    },
    {
      "cell_type": "code",
      "metadata": {
        "id": "qetdtbXLQF7d",
        "colab": {
          "base_uri": "https://localhost:8080/"
        },
        "outputId": "0241e4df-185e-4947-896d-1e3333929545"
      },
      "source": [
        "from google.colab import drive\n",
        "drive.mount(\"/drive\")"
      ],
      "execution_count": 1,
      "outputs": [
        {
          "output_type": "stream",
          "text": [
            "Mounted at /drive\n"
          ],
          "name": "stdout"
        }
      ]
    },
    {
      "cell_type": "code",
      "metadata": {
        "colab": {
          "base_uri": "https://localhost:8080/"
        },
        "id": "APq2eZo2SgQW",
        "outputId": "80985613-e9e6-4f6c-c8a3-76e76070be85"
      },
      "source": [
        "!ls \"/drive/MyDrive/Dataset\""
      ],
      "execution_count": 9,
      "outputs": [
        {
          "output_type": "stream",
          "text": [
            "caltech101\n"
          ],
          "name": "stdout"
        }
      ]
    },
    {
      "cell_type": "markdown",
      "metadata": {
        "id": "a8IubiLCa3EO"
      },
      "source": [
        "# 이미지 분류기 생성"
      ]
    },
    {
      "cell_type": "code",
      "metadata": {
        "id": "XbdYKLogTFQ7"
      },
      "source": [
        "from keras.preprocessing.image import ImageDataGenerator\n",
        "train_datagen = ImageDataGenerator(rescale=1./255, validation_split=0.2) # rgb를 0~1 값으로 변경, train : val = 8:2"
      ],
      "execution_count": null,
      "outputs": []
    },
    {
      "cell_type": "code",
      "metadata": {
        "id": "B9foHfQYUGEB",
        "colab": {
          "base_uri": "https://localhost:8080/"
        },
        "outputId": "548e058e-281d-404a-d4c1-321b6dcac047"
      },
      "source": [
        "batch_size = 16\n",
        "input_image_size = (200, 200)\n",
        "\n",
        "# train data 준비\n",
        "train_generator = train_datagen.flow_from_directory(\n",
        "    '/drive/My Drive/Dataset/caltech101',\n",
        "    target_size=input_image_size,\n",
        "    batch_size=batch_size,\n",
        "    class_mode='categorical',\n",
        "    subset='training'\n",
        ") \n",
        "# class_mode : 총 101개의 종류 분류로 binary가 아닌 categorical"
      ],
      "execution_count": null,
      "outputs": [
        {
          "output_type": "stream",
          "text": [
            "Found 7006 images belonging to 101 classes.\n"
          ],
          "name": "stdout"
        }
      ]
    },
    {
      "cell_type": "code",
      "metadata": {
        "id": "WXu6nmshXWmC",
        "colab": {
          "base_uri": "https://localhost:8080/"
        },
        "outputId": "6c2d1ffe-54ad-4e5d-fac0-e8979bc1616d"
      },
      "source": [
        "# validation data 준비\n",
        "validation_generator = train_datagen.flow_from_directory(\n",
        "    '/drive/My Drive/Dataset/caltech101',\n",
        "    target_size=input_image_size,\n",
        "    batch_size=batch_size,\n",
        "    class_mode='categorical',\n",
        "    subset='validation'\n",
        ") \n",
        "# class_mode : 총 101개의 종류 분류로 binary가 아닌 categorical"
      ],
      "execution_count": null,
      "outputs": [
        {
          "output_type": "stream",
          "text": [
            "Found 1700 images belonging to 101 classes.\n"
          ],
          "name": "stdout"
        }
      ]
    },
    {
      "cell_type": "code",
      "metadata": {
        "id": "TdR3P3lUXnPq",
        "colab": {
          "base_uri": "https://localhost:8080/"
        },
        "outputId": "88f5f869-f4e5-4ff6-8718-6b52518aaa05"
      },
      "source": [
        "# CNN 모델 구축\n",
        "from keras.layers import Dense, Input, Activation, Conv2D, MaxPooling2D, Flatten, Dropout\n",
        "from keras.models import Model, Sequential\n",
        "\n",
        "# 필터수 32, 커널의 행/열, input_shape rgb 3차원 (3x3 이 32개, 필터마다 고유한 특징을 뽑아서 고유한 출력 이미지 생성함)\n",
        "model = Sequential()\n",
        "model.add(Conv2D(32, (3, 3), activation='relu', input_shape=(200, 200, 3)))\n",
        "model.add(MaxPooling2D(pool_size=(2,2)))\n",
        "\n",
        "model.add(Conv2D(32, (3, 3), activation='relu'))\n",
        "model.add(MaxPooling2D(pool_size=(2,2)))\n",
        "\n",
        "model.add(Conv2D(64, (3, 3), activation='relu'))\n",
        "model.add(MaxPooling2D(pool_size=(2,2)))\n",
        "\n",
        "model.add(Flatten())\n",
        "model.add(Dense(1024)) # 출력 뉴런의 수\n",
        "model.add(Activation('sigmoid'))\n",
        "model.add(Dropout(0.5))\n",
        "model.add(Dense(101))\n",
        "model.add(Activation('softmax'))\n",
        "model.summary()"
      ],
      "execution_count": null,
      "outputs": [
        {
          "output_type": "stream",
          "text": [
            "Model: \"sequential_3\"\n",
            "_________________________________________________________________\n",
            "Layer (type)                 Output Shape              Param #   \n",
            "=================================================================\n",
            "conv2d_7 (Conv2D)            (None, 198, 198, 32)      896       \n",
            "_________________________________________________________________\n",
            "max_pooling2d_6 (MaxPooling2 (None, 99, 99, 32)        0         \n",
            "_________________________________________________________________\n",
            "conv2d_8 (Conv2D)            (None, 97, 97, 32)        9248      \n",
            "_________________________________________________________________\n",
            "max_pooling2d_7 (MaxPooling2 (None, 48, 48, 32)        0         \n",
            "_________________________________________________________________\n",
            "conv2d_9 (Conv2D)            (None, 46, 46, 64)        18496     \n",
            "_________________________________________________________________\n",
            "max_pooling2d_8 (MaxPooling2 (None, 23, 23, 64)        0         \n",
            "_________________________________________________________________\n",
            "flatten_2 (Flatten)          (None, 33856)             0         \n",
            "_________________________________________________________________\n",
            "dense_4 (Dense)              (None, 1024)              34669568  \n",
            "_________________________________________________________________\n",
            "activation_4 (Activation)    (None, 1024)              0         \n",
            "_________________________________________________________________\n",
            "dropout_2 (Dropout)          (None, 1024)              0         \n",
            "_________________________________________________________________\n",
            "dense_5 (Dense)              (None, 101)               103525    \n",
            "_________________________________________________________________\n",
            "activation_5 (Activation)    (None, 101)               0         \n",
            "=================================================================\n",
            "Total params: 34,801,733\n",
            "Trainable params: 34,801,733\n",
            "Non-trainable params: 0\n",
            "_________________________________________________________________\n"
          ],
          "name": "stdout"
        }
      ]
    },
    {
      "cell_type": "code",
      "metadata": {
        "id": "8qPfArHfs5O1"
      },
      "source": [
        "# 학습 설정\n",
        "from keras import optimizers\n",
        "\n",
        "model.compile(\n",
        "    optimizer=optimizers.Adam(),\n",
        "    loss='categorical_crossentropy',\n",
        "    metrics=['acc']\n",
        ")"
      ],
      "execution_count": null,
      "outputs": []
    },
    {
      "cell_type": "code",
      "metadata": {
        "colab": {
          "base_uri": "https://localhost:8080/"
        },
        "id": "Qf4369J2taja",
        "outputId": "cc90fcd1-29a4-4115-fd9c-4a4e289dba24"
      },
      "source": [
        "# 학습 종료\n",
        "from keras.callbacks import EarlyStopping\n",
        "\n",
        "# val_acc가 15회 변화가 없을 때 자동 종료\n",
        "early_stopping = EarlyStopping(patience=15, mode='auto', monitor='val_acc')\n",
        "\n",
        "# 학습 대상 설정\n",
        "hist = model.fit(train_generator,\n",
        "                 steps_per_epoch=train_generator.samples/train_generator.batch_size, \n",
        "                 validation_data=validation_generator,\n",
        "                 epochs=100,\n",
        "                 callbacks=[early_stopping])\n",
        "\n",
        "# 7006개의 데이터는 한번에 학습하기에 너무 큼\n",
        "# 그래서 데이터를 16개씩 주겠다.\n",
        "# 16개씩 주면 7006/16 = 437 이므로 1 epoch에 437번의 iteration이 일어남\n",
        "# 이걸 100번하겠다."
      ],
      "execution_count": null,
      "outputs": [
        {
          "output_type": "stream",
          "text": [
            "Epoch 1/100\n",
            "\r   1/7006 [..............................] - ETA: 8:32 - loss: 3.5629 - acc: 0.1250"
          ],
          "name": "stdout"
        },
        {
          "output_type": "stream",
          "text": [
            "/usr/local/lib/python3.7/dist-packages/tensorflow/python/keras/engine/training.py:1844: UserWarning: `Model.fit_generator` is deprecated and will be removed in a future version. Please use `Model.fit`, which supports generators.\n",
            "  warnings.warn('`Model.fit_generator` is deprecated and '\n"
          ],
          "name": "stderr"
        },
        {
          "output_type": "stream",
          "text": [
            " 438/7006 [>.............................] - ETA: 5:56 - loss: 2.0457 - acc: 0.5351WARNING:tensorflow:Your input ran out of data; interrupting training. Make sure that your dataset or generator can generate at least `steps_per_epoch * epochs` batches (in this case, 700600 batches). You may need to use the repeat() function when building your dataset.\n",
            "7006/7006 [==============================] - 28s 4ms/step - loss: 2.0457 - acc: 0.5351 - val_loss: 1.9518 - val_acc: 0.5576\n"
          ],
          "name": "stdout"
        }
      ]
    },
    {
      "cell_type": "code",
      "metadata": {
        "id": "yfmuuOOTvvV1"
      },
      "source": [
        "# 시각화\n",
        "import matplotlib\n",
        "import matplotlib.pyplot as plt\n",
        "\n",
        "fig, loss_ax = plt.subplots()\n",
        "acc_ax = loss_ax.twinx()\n",
        "\n",
        "loss_ax.plot(hist.history['loss'], 'y', label='train loss')\n",
        "loss_ax.plot(hist.history['val_loss'], 'y', label='validation loss')\n",
        "loss_ax.plot(hist.history['acc'], 'y', label='train acc')\n",
        "loss_ax.plot(hist.history['val_acc'], 'y', label='validation acc')\n",
        "\n",
        "plt.legend(['train acc', 'validation acc'])\n",
        "plt.show()"
      ],
      "execution_count": null,
      "outputs": []
    },
    {
      "cell_type": "markdown",
      "metadata": {
        "id": "N0QDiMdfa8Wi"
      },
      "source": [
        "# Transfer Learning"
      ]
    },
    {
      "cell_type": "code",
      "metadata": {
        "colab": {
          "base_uri": "https://localhost:8080/"
        },
        "id": "7L4B1taTFFQJ",
        "outputId": "27ac7d03-30e2-4346-c1cb-9f7a56c5b0d2"
      },
      "source": [
        "# transfer learning / inception v3\n",
        "\n",
        "from keras.applications import InceptionV3\n",
        "from keras.layers.normalization import BatchNormalization\n",
        "from keras.layers import Dense, Input, Activation\n",
        "from keras.models import Model\n",
        "from keras.callbacks import EarlyStopping\n",
        "from keras import optimizers\n",
        "from keras.preprocessing.image import ImageDataGenerator\n",
        "from google.colab import drive\n",
        "drive.mount(\"/drive\")"
      ],
      "execution_count": 3,
      "outputs": [
        {
          "output_type": "stream",
          "text": [
            "Drive already mounted at /drive; to attempt to forcibly remount, call drive.mount(\"/drive\", force_remount=True).\n"
          ],
          "name": "stdout"
        }
      ]
    },
    {
      "cell_type": "code",
      "metadata": {
        "colab": {
          "base_uri": "https://localhost:8080/",
          "height": 1000
        },
        "id": "m_RTcmZ-Mtp-",
        "outputId": "6157cfec-15fe-4eb7-e0d2-b59fed5b4dad"
      },
      "source": [
        "input = Input(shape=(200, 200, 3))\n",
        "\n",
        "# include_top = fully connected layer(FC)\n",
        "model = InceptionV3(input_tensor=input, include_top=False, weights='imagenet', pooling='max')\n",
        "\n",
        "# 불러온 model은 학습시키기 않고 고정함\n",
        "for layer in model.layers:\n",
        "  layer.trainable = False\n",
        "\n",
        "# fully connected layer(FC) 재구성\n",
        "x = model.output\n",
        "\n",
        "x = Dense(1024, name='fully', kernel_initializer=\"uniform\")(x)\n",
        "x = BatchNormalization()(x)\n",
        "x = Activation('relu')(x)\n",
        "\n",
        "x = Dense(512, kernel_initializer='uniform')(x)\n",
        "x = BatchNormalization()(x)\n",
        "x = Activation('sigmoid')(x)\n",
        "\n",
        "x = Dense(101, activation='softmax', name='softmax')(x)\n",
        "\n",
        "# model input, output 연결\n",
        "model = Model(model.input, x)\n",
        "\n",
        "# model.summary()\n",
        "\n",
        "train_datagen = ImageDataGenerator(rescale=1./255, validation_split=0.2) # rgb를 0~1 값으로 변경, train : val = 8:2\n",
        "batch_size = 16\n",
        "input_image_size = (200, 200)\n",
        "\n",
        "# train data 준비\n",
        "train_generator = train_datagen.flow_from_directory(\n",
        "    '/drive/My Drive/Dataset/caltech101',\n",
        "    target_size=input_image_size,\n",
        "    batch_size=batch_size,\n",
        "    class_mode='categorical',\n",
        "    subset='training'\n",
        ") \n",
        "\n",
        "# validation data 준비\n",
        "validation_generator = train_datagen.flow_from_directory(\n",
        "    '/drive/My Drive/Dataset/caltech101',\n",
        "    target_size=input_image_size,\n",
        "    batch_size=batch_size,\n",
        "    class_mode='categorical',\n",
        "    subset='validation'\n",
        ") \n",
        "\n",
        "\n",
        "model.compile(\n",
        "    optimizer=optimizers.Adam(),\n",
        "    loss='categorical_crossentropy',\n",
        "    metrics=['acc']\n",
        ")\n",
        "\n",
        "# val_acc가 15회 변화가 없을 때 자동 종료\n",
        "early_stopping = EarlyStopping(patience=15, mode='auto', monitor='val_acc')\n",
        "\n",
        "# 학습 대상 설정\n",
        "hist = model.fit(train_generator,\n",
        "                 steps_per_epoch=train_generator.samples/train_generator.batch_size, \n",
        "                 validation_data=validation_generator,\n",
        "                 epochs=100,\n",
        "                 callbacks=[early_stopping])\n",
        "\n",
        "# 시각화\n",
        "import matplotlib\n",
        "import matplotlib.pyplot as plt\n",
        "\n",
        "fig, loss_ax = plt.subplots()\n",
        "acc_ax = loss_ax.twinx()\n",
        "\n",
        "loss_ax.plot(hist.history['loss'], 'y', label='train loss')\n",
        "loss_ax.plot(hist.history['val_loss'], 'y', label='validation loss')\n",
        "loss_ax.plot(hist.history['acc'], 'y', label='train acc')\n",
        "loss_ax.plot(hist.history['val_acc'], 'y', label='validation acc')\n",
        "\n",
        "plt.legend(['train acc', 'validation acc'])\n",
        "plt.show()"
      ],
      "execution_count": 8,
      "outputs": [
        {
          "output_type": "stream",
          "text": [
            "Found 7006 images belonging to 101 classes.\n",
            "Found 1700 images belonging to 101 classes.\n",
            "Epoch 1/100\n",
            "437/437 [==============================] - 38s 76ms/step - loss: 1.7965 - acc: 0.6645 - val_loss: 0.5906 - val_acc: 0.8524\n",
            "Epoch 2/100\n",
            "437/437 [==============================] - 32s 72ms/step - loss: 0.2540 - acc: 0.9507 - val_loss: 0.4972 - val_acc: 0.8741\n",
            "Epoch 3/100\n",
            "437/437 [==============================] - 32s 73ms/step - loss: 0.0998 - acc: 0.9769 - val_loss: 0.6324 - val_acc: 0.8512\n",
            "Epoch 4/100\n",
            "437/437 [==============================] - 32s 74ms/step - loss: 0.0628 - acc: 0.9846 - val_loss: 0.4031 - val_acc: 0.8924\n",
            "Epoch 5/100\n",
            "437/437 [==============================] - 32s 74ms/step - loss: 0.0486 - acc: 0.9891 - val_loss: 0.4166 - val_acc: 0.8965\n",
            "Epoch 6/100\n",
            "437/437 [==============================] - 32s 74ms/step - loss: 0.0436 - acc: 0.9875 - val_loss: 0.3733 - val_acc: 0.9024\n",
            "Epoch 7/100\n",
            "437/437 [==============================] - 32s 73ms/step - loss: 0.0253 - acc: 0.9932 - val_loss: 0.4546 - val_acc: 0.8800\n",
            "Epoch 8/100\n",
            "437/437 [==============================] - 33s 75ms/step - loss: 0.0300 - acc: 0.9938 - val_loss: 0.4456 - val_acc: 0.8912\n",
            "Epoch 9/100\n",
            "437/437 [==============================] - 32s 74ms/step - loss: 0.0843 - acc: 0.9836 - val_loss: 0.5897 - val_acc: 0.8529\n",
            "Epoch 10/100\n",
            "437/437 [==============================] - 33s 74ms/step - loss: 0.0560 - acc: 0.9851 - val_loss: 0.4497 - val_acc: 0.8935\n",
            "Epoch 11/100\n",
            "437/437 [==============================] - 33s 75ms/step - loss: 0.0528 - acc: 0.9885 - val_loss: 0.4765 - val_acc: 0.8871\n",
            "Epoch 12/100\n",
            "437/437 [==============================] - 32s 73ms/step - loss: 0.0357 - acc: 0.9923 - val_loss: 0.4616 - val_acc: 0.8918\n",
            "Epoch 13/100\n",
            "437/437 [==============================] - 32s 72ms/step - loss: 0.0225 - acc: 0.9938 - val_loss: 0.4555 - val_acc: 0.8971\n",
            "Epoch 14/100\n",
            "437/437 [==============================] - 31s 72ms/step - loss: 0.0207 - acc: 0.9942 - val_loss: 0.4554 - val_acc: 0.8994\n",
            "Epoch 15/100\n",
            "437/437 [==============================] - 31s 72ms/step - loss: 0.0232 - acc: 0.9936 - val_loss: 0.4823 - val_acc: 0.8818\n",
            "Epoch 16/100\n",
            "437/437 [==============================] - 32s 74ms/step - loss: 0.0154 - acc: 0.9953 - val_loss: 0.5509 - val_acc: 0.8800\n",
            "Epoch 17/100\n",
            "437/437 [==============================] - 32s 74ms/step - loss: 0.0417 - acc: 0.9902 - val_loss: 0.6153 - val_acc: 0.8688\n",
            "Epoch 18/100\n",
            "437/437 [==============================] - 31s 71ms/step - loss: 0.0267 - acc: 0.9909 - val_loss: 0.5832 - val_acc: 0.8776\n",
            "Epoch 19/100\n",
            "437/437 [==============================] - 31s 72ms/step - loss: 0.0280 - acc: 0.9925 - val_loss: 0.5859 - val_acc: 0.8806\n",
            "Epoch 20/100\n",
            "437/437 [==============================] - 32s 73ms/step - loss: 0.0145 - acc: 0.9958 - val_loss: 0.5303 - val_acc: 0.8906\n",
            "Epoch 21/100\n",
            "437/437 [==============================] - 31s 71ms/step - loss: 0.0063 - acc: 0.9985 - val_loss: 0.5581 - val_acc: 0.8894\n"
          ],
          "name": "stdout"
        },
        {
          "output_type": "display_data",
          "data": {
            "image/png": "[encoded data removed]",
            "text/plain": [
              "<Figure size 432x288 with 2 Axes>"
            ]
          },
          "metadata": {
            "tags": [],
            "needs_background": "light"
          }
        }
      ]
    },
    {
      "cell_type": "code",
      "metadata": {
        "id": "Ek_Wy5WvnJq5"
      },
      "source": [
        ""
      ],
      "execution_count": null,
      "outputs": []
    }
  ]
}